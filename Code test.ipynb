{
 "cells": [
  {
   "cell_type": "code",
   "execution_count": 1,
   "metadata": {},
   "outputs": [
    {
     "name": "stdout",
     "output_type": "stream",
     "text": [
      "0\n"
     ]
    }
   ],
   "source": [
    "for i in range(1):\n",
    "    print(i)"
   ]
  },
  {
   "cell_type": "code",
   "execution_count": 201,
   "metadata": {},
   "outputs": [],
   "source": [
    "b = np.array([1,2,2,3,4,4,4,3,3,3,3,3,5])"
   ]
  },
  {
   "cell_type": "code",
   "execution_count": 203,
   "metadata": {
    "scrolled": true
   },
   "outputs": [
    {
     "data": {
      "text/plain": [
       "array([1, 3, 4, 4, 4, 3, 3, 3, 3, 3, 5])"
      ]
     },
     "execution_count": 203,
     "metadata": {},
     "output_type": "execute_result"
    }
   ],
   "source": [
    "b[b!=2]"
   ]
  },
  {
   "cell_type": "code",
   "execution_count": 58,
   "metadata": {},
   "outputs": [
    {
     "data": {
      "text/plain": [
       "array([[       -inf,        -inf,        -inf, ...,        -inf,\n",
       "               -inf,        -inf],\n",
       "       [       -inf, 36.08102036, 41.02666092, ..., 17.3381176 ,\n",
       "        12.40350342,        -inf],\n",
       "       [       -inf, 51.69070816, 58.88536835, ..., 25.21491814,\n",
       "        17.99824524,        -inf],\n",
       "       ...,\n",
       "       [       -inf,  0.        ,  0.402637  , ...,  0.77660596,\n",
       "         0.77660596,        -inf],\n",
       "       [       -inf,  0.        ,  0.        , ...,  0.        ,\n",
       "         0.        ,        -inf],\n",
       "       [       -inf,        -inf,        -inf, ...,        -inf,\n",
       "               -inf,        -inf]])"
      ]
     },
     "execution_count": 58,
     "metadata": {},
     "output_type": "execute_result"
    }
   ],
   "source": [
    "a"
   ]
  },
  {
   "cell_type": "code",
   "execution_count": null,
   "metadata": {},
   "outputs": [],
   "source": []
  },
  {
   "cell_type": "code",
   "execution_count": null,
   "metadata": {},
   "outputs": [],
   "source": []
  },
  {
   "cell_type": "code",
   "execution_count": 20,
   "metadata": {},
   "outputs": [],
   "source": [
    "import gdal\n",
    "import numpy as np"
   ]
  },
  {
   "cell_type": "code",
   "execution_count": 21,
   "metadata": {},
   "outputs": [],
   "source": [
    "dataTypes = {gdal.GDT_Byte : int, #@UndefinedVariable\n",
    "            gdal.GDT_UInt16 : int, #@UndefinedVariable\n",
    "            gdal.GDT_Int16 : int, #@UndefinedVariable\n",
    "            gdal.GDT_UInt32 : int, #@UndefinedVariable\n",
    "            gdal.GDT_Int32 : int, #@UndefinedVariable\n",
    "            gdal.GDT_Float32 : float, #@UndefinedVariable\n",
    "            gdal.GDT_Float64 : float, #@UndefinedVariable\n",
    "            gdal.GDT_CInt16 : np.complex,\n",
    "            gdal.GDT_CInt32 : np.complex,\n",
    "            gdal.GDT_CFloat32 : np.complex,\n",
    "            gdal.GDT_CFloat64 : np.complex\n",
    "            }\n",
    "\n",
    "class rasterInfo(object):\n",
    "    def __init__(self, gd=None, bandNr=1):\n",
    "        if gd:\n",
    "            band = gd.GetRasterBand(bandNr)\n",
    "                        \n",
    "            self.maxValue = band.GetMaximum()\n",
    "            self.minValue = band.GetMinimum()\n",
    "\n",
    "\n",
    "            self.noDataValue = band.GetNoDataValue()\n",
    "            if self.noDataValue is None: self.noDataValue = self.minValue-1\n",
    "                \n",
    "            if self.maxValue is None or self.minValue is None:\n",
    "                (self.minValue, self.maxValue) = band.ComputeRasterMinMax(1)\n",
    "\n",
    "            self.meanValue = (float(self.maxValue)+self.minValue)/2\n",
    "\n",
    "            self.dataType = dataTypes[band.DataType]\n",
    "            self.gdalDataType = band.DataType\n",
    "\n",
    "            self.projection = gd.GetProjection()\n",
    "            self.geoTransform = gd.GetGeoTransform()"
   ]
  },
  {
   "cell_type": "code",
   "execution_count": 160,
   "metadata": {},
   "outputs": [],
   "source": [
    "type_raster = None\n",
    "FileName = \"test_of_test.tif\" # output file\n",
    "rasterFile = 'rainbowdist_historical_median.tif'\n",
    "gd = gdal.Open(rasterFile)\n",
    "raster = gd.ReadAsArray() #array with raster\n",
    "rInfo = rasterInfo(gd)"
   ]
  },
  {
   "cell_type": "code",
   "execution_count": 171,
   "metadata": {},
   "outputs": [
    {
     "data": {
      "text/plain": [
       "True"
      ]
     },
     "execution_count": 171,
     "metadata": {},
     "output_type": "execute_result"
    }
   ],
   "source": [
    "from math import isclose\n",
    "isclose(rInfo.noDataValue, rInfo.noDataValue, rel_tol=1e-9, abs_tol=0.0)"
   ]
  },
  {
   "cell_type": "code",
   "execution_count": 167,
   "metadata": {
    "scrolled": true
   },
   "outputs": [
    {
     "data": {
      "text/plain": [
       "-3.4e+38"
      ]
     },
     "execution_count": 167,
     "metadata": {},
     "output_type": "execute_result"
    }
   ],
   "source": [
    "rInfo.noDataValue"
   ]
  },
  {
   "cell_type": "code",
   "execution_count": 174,
   "metadata": {},
   "outputs": [
    {
     "data": {
      "text/plain": [
       "array([[ 4.49527931e+01,  1.81000004e+01,  2.06100006e+01, ...,\n",
       "         2.04300003e+01,  2.06100006e+01,  2.35198822e+01],\n",
       "       [ 5.62965622e+01,  1.63302288e+01,  1.36242437e+01, ...,\n",
       "         1.32915115e+01,  1.35234652e+01,  1.85665817e+01],\n",
       "       [ 3.59120369e+01,  1.27290430e+01,  1.12427225e+01, ...,\n",
       "         1.09840679e+01,  1.10874014e+01,  1.85000000e+01],\n",
       "       ...,\n",
       "       [-3.39999995e+38, -3.39999995e+38,  1.39999998e+00, ...,\n",
       "         2.34999990e+00,  2.08226180e+00,  1.76053429e+00],\n",
       "       [ 1.00000000e+00, -3.39999995e+38, -3.39999995e+38, ...,\n",
       "        -3.39999995e+38,  1.52785718e+00,  1.58749998e+00],\n",
       "       [-3.39999995e+38, -3.39999995e+38,  2.90000010e+00, ...,\n",
       "        -3.39999995e+38, -3.39999995e+38, -3.39999995e+38]], dtype=float32)"
      ]
     },
     "execution_count": 174,
     "metadata": {},
     "output_type": "execute_result"
    }
   ],
   "source": [
    "filter_arr = arr > 42"
   ]
  },
  {
   "cell_type": "code",
   "execution_count": 237,
   "metadata": {},
   "outputs": [
    {
     "data": {
      "text/plain": [
       "1.0"
      ]
     },
     "execution_count": 237,
     "metadata": {},
     "output_type": "execute_result"
    }
   ],
   "source": [
    "rInfo."
   ]
  },
  {
   "cell_type": "code",
   "execution_count": 260,
   "metadata": {},
   "outputs": [
    {
     "data": {
      "text/plain": [
       "array([[ 1.63302288e+01,  1.36242437e+01,  1.37327890e+01, ...,\n",
       "         1.30939054e+01,  1.32915115e+01,  1.35234652e+01],\n",
       "       [ 1.27290430e+01,  1.12427225e+01,  1.14651823e+01, ...,\n",
       "         1.10522480e+01,  1.09840679e+01,  1.10874014e+01],\n",
       "       [ 1.30660725e+01,  1.23607349e+01,  1.24230232e+01, ...,\n",
       "         1.27928133e+01,  1.34453087e+01,  1.39310007e+01],\n",
       "       ...,\n",
       "       [ 1.17499995e+00,  1.34285712e+00,  1.34285712e+00, ...,\n",
       "         1.36861098e+00,  1.33333337e+00,  1.49333334e+00],\n",
       "       [-3.39999995e+38,  1.39999998e+00,  1.82666671e+00, ...,\n",
       "         1.66666663e+00,  2.34999990e+00,  2.08226180e+00],\n",
       "       [-3.39999995e+38, -3.39999995e+38, -3.39999995e+38, ...,\n",
       "         1.83028948e+00, -3.39999995e+38,  1.52785718e+00]], dtype=float32)"
      ]
     },
     "execution_count": 260,
     "metadata": {},
     "output_type": "execute_result"
    }
   ],
   "source": [
    "raster[1:-1, 1:-1]"
   ]
  },
  {
   "cell_type": "code",
   "execution_count": 259,
   "metadata": {},
   "outputs": [
    {
     "data": {
      "text/plain": [
       "array([[ 1.63302288e+01,  1.36242437e+01,  1.37327890e+01, ...,\n",
       "         1.30939054e+01,  1.32915115e+01,  1.35234652e+01],\n",
       "       [ 1.27290430e+01,  1.12427225e+01,  1.14651823e+01, ...,\n",
       "         1.10522480e+01,  1.09840679e+01,  1.10874014e+01],\n",
       "       [ 1.30660725e+01,  1.23607349e+01,  1.24230232e+01, ...,\n",
       "         1.27928133e+01,  1.34453087e+01,  1.39310007e+01],\n",
       "       ...,\n",
       "       [ 1.17499995e+00,  1.34285712e+00,  1.34285712e+00, ...,\n",
       "         1.36861098e+00,  1.33333337e+00,  1.49333334e+00],\n",
       "       [-3.39999995e+38,  1.39999998e+00,  1.82666671e+00, ...,\n",
       "         1.66666663e+00,  2.34999990e+00,  2.08226180e+00],\n",
       "       [-3.39999995e+38, -3.39999995e+38, -3.39999995e+38, ...,\n",
       "         1.83028948e+00, -3.39999995e+38,  1.52785718e+00]], dtype=float32)"
      ]
     },
     "execution_count": 259,
     "metadata": {},
     "output_type": "execute_result"
    }
   ],
   "source": [
    "raster[1+(1-1):raster.shape[0]-1, 1+(1-1):raster.shape[1]-1]"
   ]
  },
  {
   "cell_type": "code",
   "execution_count": 256,
   "metadata": {},
   "outputs": [
    {
     "data": {
      "text/plain": [
       "array([[ 1.63302288e+01,  1.36242437e+01,  1.37327890e+01, ...,\n",
       "         1.30939054e+01,  1.32915115e+01,  1.35234652e+01],\n",
       "       [ 1.27290430e+01,  1.12427225e+01,  1.14651823e+01, ...,\n",
       "         1.10522480e+01,  1.09840679e+01,  1.10874014e+01],\n",
       "       [ 1.30660725e+01,  1.23607349e+01,  1.24230232e+01, ...,\n",
       "         1.27928133e+01,  1.34453087e+01,  1.39310007e+01],\n",
       "       ...,\n",
       "       [ 1.17499995e+00,  1.34285712e+00,  1.34285712e+00, ...,\n",
       "         1.36861098e+00,  1.33333337e+00,  1.49333334e+00],\n",
       "       [-3.39999995e+38,  1.39999998e+00,  1.82666671e+00, ...,\n",
       "         1.66666663e+00,  2.34999990e+00,  2.08226180e+00],\n",
       "       [-3.39999995e+38, -3.39999995e+38, -3.39999995e+38, ...,\n",
       "         1.83028948e+00, -3.39999995e+38,  1.52785718e+00]], dtype=float32)"
      ]
     },
     "execution_count": 256,
     "metadata": {},
     "output_type": "execute_result"
    }
   ],
   "source": [
    "np.minimum(raster[1:-1, 1:-1], raster[1+(1-1):raster.shape[0]-1, 1+(1-1):raster.shape[1]-1])\n",
    "\n"
   ]
  },
  {
   "cell_type": "code",
   "execution_count": 251,
   "metadata": {},
   "outputs": [
    {
     "data": {
      "text/plain": [
       "array([180, 153, 156, ..., 237, 238, 239])"
      ]
     },
     "execution_count": 251,
     "metadata": {},
     "output_type": "execute_result"
    }
   ],
   "source": [
    "noDataArray[1]"
   ]
  },
  {
   "cell_type": "code",
   "execution_count": 231,
   "metadata": {},
   "outputs": [],
   "source": [
    "def rasterSum(raster, mask, rInfo, iterations=1):\n",
    "    u = raster\n",
    "#     u[np.where(u== np.Inf)] = rInfo.noDataValue\n",
    "#     u[np.where(u== -np.Inf)] = rInfo.noDataValue\n",
    "#     u[np.where(u==rInfo.noDataValue)]= rInfo.noDataValue\n",
    "    noDataArray = u < 0\n",
    "    \n",
    "    print(noDataArray)\n",
    "    (mh, mw) = mask.shape\n",
    "\n",
    "    dx = mw//2\n",
    "    dy = mh//2\n",
    "    for x in range(dx):\n",
    "        u = np.insert(u, 0, rInfo.noDataValue, axis=1) #@UndefinedVariable\n",
    "        u = np.insert(u, u.shape[1], rInfo.noDataValue, axis=1)\n",
    "    for y in range(dy):\n",
    "        u = np.insert(u, 0, rInfo.noDataValue, axis=0)\n",
    "        u = np.insert(u, u.shape[0], rInfo.noDataValue, axis=0)\n",
    "    (uh, uw) = u.shape\n",
    "#     print(u.shape)\n",
    "    out = np.zeros(u.shape, dtype=rInfo.dataType)\n",
    "\n",
    "    for w in range(uw-dx):\n",
    "        for h in range(uh-dy):\n",
    "            s = u[h:h+mh,w:w+mw] #*mask\n",
    "            s = s[s>=0]\n",
    "#             print(s== rInfo.noDataValue)\n",
    "#             print(rInfo.noDataValue)\n",
    "#             print(s)\n",
    "            if len(s) == 0: \n",
    "                continue #if all values are noDataValue then continue with next cell\n",
    "            else:\n",
    "                m = np.sum(s)\n",
    "                out[h+dy,w+dx] = m\n",
    "    out[dy:-dy,dx:-dx][noDataArray] = np.nan\n",
    "    \n",
    "    return out[dy:-dy,dx:-dx]"
   ]
  },
  {
   "cell_type": "code",
   "execution_count": null,
   "metadata": {},
   "outputs": [],
   "source": []
  },
  {
   "cell_type": "code",
   "execution_count": 232,
   "metadata": {},
   "outputs": [],
   "source": [
    "mask = np.ones((3,3))"
   ]
  },
  {
   "cell_type": "code",
   "execution_count": 233,
   "metadata": {
    "scrolled": false
   },
   "outputs": [
    {
     "name": "stdout",
     "output_type": "stream",
     "text": [
      "[[False False False ... False False False]\n",
      " [False False False ... False False False]\n",
      " [False False False ... False False False]\n",
      " ...\n",
      " [ True  True False ... False False False]\n",
      " [False  True  True ...  True False False]\n",
      " [ True  True False ...  True  True  True]]\n"
     ]
    }
   ],
   "source": [
    "a = rasterSum(raster, mask, rInfo)"
   ]
  },
  {
   "cell_type": "code",
   "execution_count": 234,
   "metadata": {},
   "outputs": [
    {
     "data": {
      "image/png": "[encoded data removed]",
      "text/plain": [
       "<Figure size 432x288 with 1 Axes>"
      ]
     },
     "metadata": {
      "needs_background": "light"
     },
     "output_type": "display_data"
    },
    {
     "data": {
      "text/plain": [
       "<matplotlib.axes._subplots.AxesSubplot at 0x7fe66df80c18>"
      ]
     },
     "execution_count": 234,
     "metadata": {},
     "output_type": "execute_result"
    }
   ],
   "source": [
    "from matplotlib import pyplot\n",
    "import rasterio\n",
    "from rasterio.plot import show\n",
    "show(a)"
   ]
  },
  {
   "cell_type": "code",
   "execution_count": 190,
   "metadata": {},
   "outputs": [
    {
     "data": {
      "text/plain": [
       "array([[ 4.49527931e+01,  1.81000004e+01,  2.06100006e+01, ...,\n",
       "         2.04300003e+01,  2.06100006e+01,  2.35198822e+01],\n",
       "       [ 5.62965622e+01,  1.63302288e+01,  1.36242437e+01, ...,\n",
       "         1.32915115e+01,  1.35234652e+01,  1.85665817e+01],\n",
       "       [ 3.59120369e+01,  1.27290430e+01,  1.12427225e+01, ...,\n",
       "         1.09840679e+01,  1.10874014e+01,  1.85000000e+01],\n",
       "       ...,\n",
       "       [-3.39999995e+38, -3.39999995e+38,  1.39999998e+00, ...,\n",
       "         2.34999990e+00,  2.08226180e+00,  1.76053429e+00],\n",
       "       [ 1.00000000e+00, -3.39999995e+38, -3.39999995e+38, ...,\n",
       "        -3.39999995e+38,  1.52785718e+00,  1.58749998e+00],\n",
       "       [-3.39999995e+38, -3.39999995e+38,  2.90000010e+00, ...,\n",
       "        -3.39999995e+38, -3.39999995e+38, -3.39999995e+38]], dtype=float32)"
      ]
     },
     "execution_count": 190,
     "metadata": {},
     "output_type": "execute_result"
    }
   ],
   "source": [
    "raster"
   ]
  },
  {
   "cell_type": "code",
   "execution_count": null,
   "metadata": {},
   "outputs": [],
   "source": []
  },
  {
   "cell_type": "code",
   "execution_count": null,
   "metadata": {},
   "outputs": [],
   "source": []
  },
  {
   "cell_type": "code",
   "execution_count": 184,
   "metadata": {
    "scrolled": true
   },
   "outputs": [
    {
     "data": {
      "text/plain": [
       "array([  0,   1,   2, ..., 237, 238, 239])"
      ]
     },
     "execution_count": 184,
     "metadata": {},
     "output_type": "execute_result"
    }
   ],
   "source": [
    "np.where(a == -np.Inf)[1]"
   ]
  },
  {
   "cell_type": "code",
   "execution_count": 53,
   "metadata": {},
   "outputs": [
    {
     "data": {
      "text/plain": [
       "<osgeo.gdal.Band; proxy of <Swig Object of type 'GDALRasterBandShadow *' at 0x7fe66cdfc930> >"
      ]
     },
     "execution_count": 53,
     "metadata": {},
     "output_type": "execute_result"
    }
   ],
   "source": [
    "gd.GetRasterBand(1)"
   ]
  },
  {
   "cell_type": "code",
   "execution_count": 35,
   "metadata": {},
   "outputs": [
    {
     "data": {
      "text/plain": [
       "numpy.float64"
      ]
     },
     "execution_count": 35,
     "metadata": {},
     "output_type": "execute_result"
    }
   ],
   "source": [
    "type(a[1,1])"
   ]
  },
  {
   "cell_type": "code",
   "execution_count": 52,
   "metadata": {},
   "outputs": [
    {
     "data": {
      "text/plain": [
       "True"
      ]
     },
     "execution_count": 52,
     "metadata": {},
     "output_type": "execute_result"
    }
   ],
   "source": [
    "rInfo.maxValue == np.Inf"
   ]
  },
  {
   "cell_type": "code",
   "execution_count": 112,
   "metadata": {},
   "outputs": [
    {
     "data": {
      "text/plain": [
       "(array([  0,   0,   0, ..., 119, 119, 119]),\n",
       " array([  0,   1,   2, ..., 237, 238, 239]))"
      ]
     },
     "execution_count": 112,
     "metadata": {},
     "output_type": "execute_result"
    }
   ],
   "source": [
    "np.where(a==-np.Inf)"
   ]
  },
  {
   "cell_type": "code",
   "execution_count": null,
   "metadata": {},
   "outputs": [],
   "source": []
  }
 ],
 "metadata": {
  "kernelspec": {
   "display_name": "Python 3",
   "language": "python",
   "name": "python3"
  },
  "language_info": {
   "codemirror_mode": {
    "name": "ipython",
    "version": 3
   },
   "file_extension": ".py",
   "mimetype": "text/x-python",
   "name": "python",
   "nbconvert_exporter": "python",
   "pygments_lexer": "ipython3",
   "version": "3.7.0"
  }
 },
 "nbformat": 4,
 "nbformat_minor": 2
}
